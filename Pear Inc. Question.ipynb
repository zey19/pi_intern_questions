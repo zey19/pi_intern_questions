{
  "cells": [
    {
      "cell_type": "markdown",
      "id": "bfbcba79",
      "metadata": {
        "id": "bfbcba79"
      },
      "source": [
        "![image.png](https://github.com/zey19/pi_intern_questions/blob/main/pear.png?raw=1)"
      ]
    },
    {
      "cell_type": "markdown",
      "id": "3115411c",
      "metadata": {
        "id": "3115411c"
      },
      "source": [
        "***"
      ]
    },
    {
      "cell_type": "markdown",
      "id": "19ceee55",
      "metadata": {
        "id": "19ceee55"
      },
      "source": [
        "# Welcome to Pear Inc. \n",
        "\n",
        "Hi there! \n",
        "My name is Robert! You can call me Bob 😉. <br>\n",
        "I'm the communications officer (fancy title ha!) in our glorious company 😇.\n",
        "My job is to help facilitate product development and market penetration 🤓. <br>\n",
        "I spent endless hours talking to engineers, product managers, and  customers 😱  \n",
        "\n",
        "Since we are a 20 people start-up (All of us have fancy names 😂), I also do some recruiting from time to time 💪 <br>\n",
        "We are looking for **brave souls who are not afraid of a challenge and will help us** with our new product line of smart t-shirts! 🧐 <br> \n",
        "\n",
        "(Our CEO believes that smart t-shirts are the right direction for some reason 😅 I guess if you make something nobody needs, you won't have to sell it 🤓) <br>\n",
        "\n",
        "Let me tell you a little bit more about our problem that you can help us with:<br>\n",
        "We are creating a life changing smart t-shirt which has bluetooth and connects to your phone 🥳. They will be customizable outfits through downloaded applications. Our smart t-shirt will be developed with Google Wear OS which is a version of Google's Android operating system designed for smartwatches and other wearables. So users will be able to install custom programs through Google Play Store 🤭. <br> And we will sell them for 999.9$ a piece 💰💰💰<br>\n",
        "But our engineers wanted to ensure that only Pear Inc. approved programs can be installed on our t-shirts because\n",
        "market analysis showed that potential customers are afraid of ransomware that will break their \"*premium*\" t-shirts 🤦‍. So we need an antivirus for approving apps on the fly! <br>However, we don't want to install an off the shelf antivirus to our t-shirts 🤫, because BIG profit margins matter 🏦!\n",
        "\n",
        "##### Enough chit-chat!\n",
        "Let's get down to the business of why I contacted you: <br>\n",
        "Our bright engineers came up with an algorithm that creates compressed signatures for the apps in the Google Play Store. It is called '*manifold averaging generally intelligent compressor*' or as we call it 'MAGIC'. <br>\n",
        "The engineers told us that the outputs of MAGIC reflect the statistical properties of the uncompressed apps (whatever that may mean! 🤦‍). <br> MAGIC takes a Google Play Store app as an input and outputs a 4 dimensional numerical signature (they called it a vector but calling it a vector is not fancy enough for marketing! 🤪).   \n",
        "\n",
        "Now, since these signatures are just numbers, an off the shelf antivirus can't work with them (even if it could, we can't install an off the shelf antivirus into our t-shirts -- too much computing power and space is needed). Therefore **we need a light weight proof of concept that takes these signatures as inputs and outputs labels (virus or not) for them.** We eventually want to install your program into our smart t-shirts, where it will scan a Google Play Store app (its signature to be precise!) and stop the app's execution if it thinks the app is a virus! But we are not going so far just yet so you only need to create the pipeline that take the signatures, and output labels for them. Don't worry about the rest, it is just a proof of concept at the end 😉. We are providing the dataset for you to develop your model.\n",
        "\n",
        "In a nutshell: \n",
        "- There 4 dimensional (4 feature) numerical inputs (signatures) with labels!\n",
        "- We need a simple model that takes these inputs and labels them (Virus, Not a Virus)\n",
        "- We also need you to evaluate your model. Choose any metric you want, but don't forget to explain why, since I don't know much about this field (that is why we need your help!)\n",
        "\n",
        "Things to keep in mind:\n",
        "- There are less 'Virus' in the dataset than 'Not a Virus'. (Naturally!)\n",
        "- While we call it MAGIC, it still sometimes doesn't work well 🤦‍, so there are signatures with missing features (missing values).\n",
        "- I don't know much about these things so please show your work, your thinking process and please make it as clear as possible, otherwise I get confused 😵. (Visualizations of the data and comments in your code would be great!)\n",
        "\n",
        "***\n",
        "##### Let me describe the dataset, and you are ready to get to work!\n",
        "\n",
        "It is a CSV file. Each row represents a signature for an app. First 4 columns from left to right represent dimensions (features) and the last column is the label (isVirus: True or False). \n",
        "\n",
        "- Visualize the data (so that people like me can understand!)\n",
        "- Clean up the data (balance it out, impute missing values and so on... depending on the method you are going to use!)\n",
        "- Visualize the cleaned data (so that people like me can understand the effect of cleaning process!)\n",
        "- Create a simple model that performs reasonably well. (If it doesn't perform well, comment on why and how to improve it!)\n",
        "- Evaluate the model with a testset you will create from the dataset. (Pretty plots make things easier to understand)\n",
        "- Upload your code to a private github repo you can share with us, and invite us (https://github.com/alpsina, https://github.com/ltc0060 and https://github.com/ahmetkoklu) as collaborators so only we can see our super-secret project. \n",
        "\n",
        "And you are done! (Don't forget to comment, and show your work please 🤓)\n"
      ]
    },
    {
      "cell_type": "markdown",
      "id": "d3a7b430",
      "metadata": {
        "id": "d3a7b430"
      },
      "source": [
        "### SOLUTION :\n"
      ]
    },
    {
      "cell_type": "code",
      "execution_count": 106,
      "id": "ce8937e1",
      "metadata": {
        "id": "ce8937e1"
      },
      "outputs": [],
      "source": [
        "# Your code here!\n",
        "# We need to import necessary files\n",
        "\n",
        "import pandas as pd \n",
        "import numpy as np\n",
        "import matplotlib.pyplot as plt\n",
        "import seaborn as sns\n",
        "\n",
        "# Import Label Encoder and train_test_split\n",
        "from sklearn.preprocessing import LabelEncoder, minmax_scale\n",
        "from sklearn.model_selection import train_test_split\n",
        "from sklearn.metrics import accuracy_score\n",
        "\n",
        "from sklearn.linear_model import LogisticRegression"
      ]
    },
    {
      "cell_type": "code",
      "source": [
        "# First we need to read our dataset from github\n",
        "\n",
        "\n",
        "url = 'https://raw.githubusercontent.com/zey19/pi_intern_questions/main/dataset.csv'\n",
        "df = pd.read_csv(url)\n",
        "\n",
        "df"
      ],
      "metadata": {
        "id": "KKvauwYuBFRc",
        "outputId": "225d5496-a0be-4374-d573-4c50eb8e5477",
        "colab": {
          "base_uri": "https://localhost:8080/",
          "height": 423
        }
      },
      "id": "KKvauwYuBFRc",
      "execution_count": 112,
      "outputs": [
        {
          "output_type": "execute_result",
          "data": {
            "text/plain": [
              "      feature_1  feature_2  feature_3  feature_4  isVirus\n",
              "0     -0.233467   0.308799   2.484015   1.732721    False\n",
              "1      1.519003   1.238482   3.344450   0.783744    False\n",
              "2      0.400640   1.916748   3.291096  -0.918519    False\n",
              "3     -1.616474   0.209703   1.461544  -0.291837    False\n",
              "4      1.480515   5.299829   2.640670   1.867559     True\n",
              "...         ...        ...        ...        ...      ...\n",
              "1994   2.532559   2.139847   3.859104   2.190373    False\n",
              "1995        NaN   3.562990        NaN   2.499590    False\n",
              "1996   4.059027   1.977436   2.144760   4.257220    False\n",
              "1997   3.457310   3.962342   3.770837   3.243168    False\n",
              "1998   3.578521   3.349654        NaN   1.562209    False\n",
              "\n",
              "[1999 rows x 5 columns]"
            ],
            "text/html": [
              "\n",
              "  <div id=\"df-5f21c81f-e089-4339-896f-3f262c6107bb\">\n",
              "    <div class=\"colab-df-container\">\n",
              "      <div>\n",
              "<style scoped>\n",
              "    .dataframe tbody tr th:only-of-type {\n",
              "        vertical-align: middle;\n",
              "    }\n",
              "\n",
              "    .dataframe tbody tr th {\n",
              "        vertical-align: top;\n",
              "    }\n",
              "\n",
              "    .dataframe thead th {\n",
              "        text-align: right;\n",
              "    }\n",
              "</style>\n",
              "<table border=\"1\" class=\"dataframe\">\n",
              "  <thead>\n",
              "    <tr style=\"text-align: right;\">\n",
              "      <th></th>\n",
              "      <th>feature_1</th>\n",
              "      <th>feature_2</th>\n",
              "      <th>feature_3</th>\n",
              "      <th>feature_4</th>\n",
              "      <th>isVirus</th>\n",
              "    </tr>\n",
              "  </thead>\n",
              "  <tbody>\n",
              "    <tr>\n",
              "      <th>0</th>\n",
              "      <td>-0.233467</td>\n",
              "      <td>0.308799</td>\n",
              "      <td>2.484015</td>\n",
              "      <td>1.732721</td>\n",
              "      <td>False</td>\n",
              "    </tr>\n",
              "    <tr>\n",
              "      <th>1</th>\n",
              "      <td>1.519003</td>\n",
              "      <td>1.238482</td>\n",
              "      <td>3.344450</td>\n",
              "      <td>0.783744</td>\n",
              "      <td>False</td>\n",
              "    </tr>\n",
              "    <tr>\n",
              "      <th>2</th>\n",
              "      <td>0.400640</td>\n",
              "      <td>1.916748</td>\n",
              "      <td>3.291096</td>\n",
              "      <td>-0.918519</td>\n",
              "      <td>False</td>\n",
              "    </tr>\n",
              "    <tr>\n",
              "      <th>3</th>\n",
              "      <td>-1.616474</td>\n",
              "      <td>0.209703</td>\n",
              "      <td>1.461544</td>\n",
              "      <td>-0.291837</td>\n",
              "      <td>False</td>\n",
              "    </tr>\n",
              "    <tr>\n",
              "      <th>4</th>\n",
              "      <td>1.480515</td>\n",
              "      <td>5.299829</td>\n",
              "      <td>2.640670</td>\n",
              "      <td>1.867559</td>\n",
              "      <td>True</td>\n",
              "    </tr>\n",
              "    <tr>\n",
              "      <th>...</th>\n",
              "      <td>...</td>\n",
              "      <td>...</td>\n",
              "      <td>...</td>\n",
              "      <td>...</td>\n",
              "      <td>...</td>\n",
              "    </tr>\n",
              "    <tr>\n",
              "      <th>1994</th>\n",
              "      <td>2.532559</td>\n",
              "      <td>2.139847</td>\n",
              "      <td>3.859104</td>\n",
              "      <td>2.190373</td>\n",
              "      <td>False</td>\n",
              "    </tr>\n",
              "    <tr>\n",
              "      <th>1995</th>\n",
              "      <td>NaN</td>\n",
              "      <td>3.562990</td>\n",
              "      <td>NaN</td>\n",
              "      <td>2.499590</td>\n",
              "      <td>False</td>\n",
              "    </tr>\n",
              "    <tr>\n",
              "      <th>1996</th>\n",
              "      <td>4.059027</td>\n",
              "      <td>1.977436</td>\n",
              "      <td>2.144760</td>\n",
              "      <td>4.257220</td>\n",
              "      <td>False</td>\n",
              "    </tr>\n",
              "    <tr>\n",
              "      <th>1997</th>\n",
              "      <td>3.457310</td>\n",
              "      <td>3.962342</td>\n",
              "      <td>3.770837</td>\n",
              "      <td>3.243168</td>\n",
              "      <td>False</td>\n",
              "    </tr>\n",
              "    <tr>\n",
              "      <th>1998</th>\n",
              "      <td>3.578521</td>\n",
              "      <td>3.349654</td>\n",
              "      <td>NaN</td>\n",
              "      <td>1.562209</td>\n",
              "      <td>False</td>\n",
              "    </tr>\n",
              "  </tbody>\n",
              "</table>\n",
              "<p>1999 rows × 5 columns</p>\n",
              "</div>\n",
              "      <button class=\"colab-df-convert\" onclick=\"convertToInteractive('df-5f21c81f-e089-4339-896f-3f262c6107bb')\"\n",
              "              title=\"Convert this dataframe to an interactive table.\"\n",
              "              style=\"display:none;\">\n",
              "        \n",
              "  <svg xmlns=\"http://www.w3.org/2000/svg\" height=\"24px\"viewBox=\"0 0 24 24\"\n",
              "       width=\"24px\">\n",
              "    <path d=\"M0 0h24v24H0V0z\" fill=\"none\"/>\n",
              "    <path d=\"M18.56 5.44l.94 2.06.94-2.06 2.06-.94-2.06-.94-.94-2.06-.94 2.06-2.06.94zm-11 1L8.5 8.5l.94-2.06 2.06-.94-2.06-.94L8.5 2.5l-.94 2.06-2.06.94zm10 10l.94 2.06.94-2.06 2.06-.94-2.06-.94-.94-2.06-.94 2.06-2.06.94z\"/><path d=\"M17.41 7.96l-1.37-1.37c-.4-.4-.92-.59-1.43-.59-.52 0-1.04.2-1.43.59L10.3 9.45l-7.72 7.72c-.78.78-.78 2.05 0 2.83L4 21.41c.39.39.9.59 1.41.59.51 0 1.02-.2 1.41-.59l7.78-7.78 2.81-2.81c.8-.78.8-2.07 0-2.86zM5.41 20L4 18.59l7.72-7.72 1.47 1.35L5.41 20z\"/>\n",
              "  </svg>\n",
              "      </button>\n",
              "      \n",
              "  <style>\n",
              "    .colab-df-container {\n",
              "      display:flex;\n",
              "      flex-wrap:wrap;\n",
              "      gap: 12px;\n",
              "    }\n",
              "\n",
              "    .colab-df-convert {\n",
              "      background-color: #E8F0FE;\n",
              "      border: none;\n",
              "      border-radius: 50%;\n",
              "      cursor: pointer;\n",
              "      display: none;\n",
              "      fill: #1967D2;\n",
              "      height: 32px;\n",
              "      padding: 0 0 0 0;\n",
              "      width: 32px;\n",
              "    }\n",
              "\n",
              "    .colab-df-convert:hover {\n",
              "      background-color: #E2EBFA;\n",
              "      box-shadow: 0px 1px 2px rgba(60, 64, 67, 0.3), 0px 1px 3px 1px rgba(60, 64, 67, 0.15);\n",
              "      fill: #174EA6;\n",
              "    }\n",
              "\n",
              "    [theme=dark] .colab-df-convert {\n",
              "      background-color: #3B4455;\n",
              "      fill: #D2E3FC;\n",
              "    }\n",
              "\n",
              "    [theme=dark] .colab-df-convert:hover {\n",
              "      background-color: #434B5C;\n",
              "      box-shadow: 0px 1px 3px 1px rgba(0, 0, 0, 0.15);\n",
              "      filter: drop-shadow(0px 1px 2px rgba(0, 0, 0, 0.3));\n",
              "      fill: #FFFFFF;\n",
              "    }\n",
              "  </style>\n",
              "\n",
              "      <script>\n",
              "        const buttonEl =\n",
              "          document.querySelector('#df-5f21c81f-e089-4339-896f-3f262c6107bb button.colab-df-convert');\n",
              "        buttonEl.style.display =\n",
              "          google.colab.kernel.accessAllowed ? 'block' : 'none';\n",
              "\n",
              "        async function convertToInteractive(key) {\n",
              "          const element = document.querySelector('#df-5f21c81f-e089-4339-896f-3f262c6107bb');\n",
              "          const dataTable =\n",
              "            await google.colab.kernel.invokeFunction('convertToInteractive',\n",
              "                                                     [key], {});\n",
              "          if (!dataTable) return;\n",
              "\n",
              "          const docLinkHtml = 'Like what you see? Visit the ' +\n",
              "            '<a target=\"_blank\" href=https://colab.research.google.com/notebooks/data_table.ipynb>data table notebook</a>'\n",
              "            + ' to learn more about interactive tables.';\n",
              "          element.innerHTML = '';\n",
              "          dataTable['output_type'] = 'display_data';\n",
              "          await google.colab.output.renderOutput(dataTable, element);\n",
              "          const docLink = document.createElement('div');\n",
              "          docLink.innerHTML = docLinkHtml;\n",
              "          element.appendChild(docLink);\n",
              "        }\n",
              "      </script>\n",
              "    </div>\n",
              "  </div>\n",
              "  "
            ]
          },
          "metadata": {},
          "execution_count": 112
        }
      ]
    },
    {
      "cell_type": "code",
      "source": [
        "df.info()"
      ],
      "metadata": {
        "id": "mEpu4PMeB6GA",
        "outputId": "0300c5dc-6575-4acb-fba0-d70eb752ea75",
        "colab": {
          "base_uri": "https://localhost:8080/"
        }
      },
      "id": "mEpu4PMeB6GA",
      "execution_count": 71,
      "outputs": [
        {
          "output_type": "stream",
          "name": "stdout",
          "text": [
            "<class 'pandas.core.frame.DataFrame'>\n",
            "RangeIndex: 1999 entries, 0 to 1998\n",
            "Data columns (total 5 columns):\n",
            " #   Column     Non-Null Count  Dtype  \n",
            "---  ------     --------------  -----  \n",
            " 0   feature_1  1897 non-null   float64\n",
            " 1   feature_2  1899 non-null   float64\n",
            " 2   feature_3  1893 non-null   float64\n",
            " 3   feature_4  1897 non-null   float64\n",
            " 4   isVirus    1999 non-null   bool   \n",
            "dtypes: bool(1), float64(4)\n",
            "memory usage: 64.5 KB\n"
          ]
        }
      ]
    },
    {
      "cell_type": "code",
      "source": [
        "# Create the features dataset\n",
        "X = df.drop('isVirus', axis=1)\n",
        "\n",
        "# Create the labels dataset\n",
        "y= df.loc[:,'isVirus']"
      ],
      "metadata": {
        "id": "4ZzkRUv5D1i4"
      },
      "id": "4ZzkRUv5D1i4",
      "execution_count": 72,
      "outputs": []
    },
    {
      "cell_type": "code",
      "source": [
        "y"
      ],
      "metadata": {
        "id": "vjYd8BzVEIF-",
        "outputId": "96193bf6-dd58-4cc6-d28d-0ec3008a8f85",
        "colab": {
          "base_uri": "https://localhost:8080/"
        }
      },
      "id": "vjYd8BzVEIF-",
      "execution_count": 54,
      "outputs": [
        {
          "output_type": "execute_result",
          "data": {
            "text/plain": [
              "0       False\n",
              "1       False\n",
              "2       False\n",
              "3       False\n",
              "4        True\n",
              "        ...  \n",
              "1994    False\n",
              "1995    False\n",
              "1996    False\n",
              "1997    False\n",
              "1998    False\n",
              "Name: isVirus, Length: 1999, dtype: bool"
            ]
          },
          "metadata": {},
          "execution_count": 54
        }
      ]
    },
    {
      "cell_type": "code",
      "source": [
        "#We need to convert our virus column in binary in order to make it easy\n",
        "\n",
        "# Create an LabelEncoder object.\n",
        "encoder = LabelEncoder()\n",
        "\n",
        "# Convert string classes to integers using fit_transform() method\n",
        "y= encoder.fit_transform(y)"
      ],
      "metadata": {
        "id": "e0hnF-V3DT6f"
      },
      "id": "e0hnF-V3DT6f",
      "execution_count": 55,
      "outputs": []
    },
    {
      "cell_type": "code",
      "source": [
        "y[:20]"
      ],
      "metadata": {
        "id": "TlMqybU0ECWb",
        "outputId": "07e6d7ef-0828-4cc6-9b75-27a967ce0047",
        "colab": {
          "base_uri": "https://localhost:8080/"
        }
      },
      "id": "TlMqybU0ECWb",
      "execution_count": 56,
      "outputs": [
        {
          "output_type": "execute_result",
          "data": {
            "text/plain": [
              "array([0, 0, 0, 0, 1, 1, 1, 1, 1, 1, 1, 0, 1, 0, 1, 0, 0, 0, 1, 0])"
            ]
          },
          "metadata": {},
          "execution_count": 56
        }
      ]
    },
    {
      "cell_type": "code",
      "source": [
        "plt.scatter(X[\"feature_1\"], y, label=\"feature-1\")\n",
        "plt.scatter(X[\"feature_2\"], y, label=\"feature-2\")\n",
        "plt.scatter(X[\"feature_3\"], y, label=\"feature-3\")\n",
        "plt.scatter(X[\"feature_4\"], y, label=\"feature-4\")\n",
        "plt.legend()\n",
        "plt.show()"
      ],
      "metadata": {
        "id": "v6XqWhzuESgJ",
        "outputId": "9cd3c710-d03a-4a2d-b803-daff1d10ff4d",
        "colab": {
          "base_uri": "https://localhost:8080/",
          "height": 265
        }
      },
      "id": "v6XqWhzuESgJ",
      "execution_count": 73,
      "outputs": [
        {
          "output_type": "display_data",
          "data": {
            "text/plain": [
              "<Figure size 432x288 with 1 Axes>"
            ],
            "image/png": "[encoded data removed]"
          },
          "metadata": {
            "needs_background": "light"
          }
        }
      ]
    },
    {
      "cell_type": "code",
      "source": [
        "# We have to make our data consistent for that we should clean the data\n",
        "\n",
        "# names of the columns\n",
        "columns = ['feature_1', 'feature_2', 'feature_3', 'feature_4']\n",
        "\n",
        "# looping through the columns to fill the entries with NaN values with \"\"\n",
        "for column in columns:\n",
        "    df[column] = df[column].fillna(0)"
      ],
      "metadata": {
        "id": "qzbNJPTYNW1Y"
      },
      "id": "qzbNJPTYNW1Y",
      "execution_count": 58,
      "outputs": []
    },
    {
      "cell_type": "code",
      "source": [
        "df = df.dropna(axis=0)\n",
        "df"
      ],
      "metadata": {
        "id": "CHqyeXrBOebl",
        "outputId": "6fb5d6a9-ecb5-48de-d2e6-6bea33dead1a",
        "colab": {
          "base_uri": "https://localhost:8080/",
          "height": 423
        }
      },
      "id": "CHqyeXrBOebl",
      "execution_count": 113,
      "outputs": [
        {
          "output_type": "execute_result",
          "data": {
            "text/plain": [
              "      feature_1  feature_2  feature_3  feature_4  isVirus\n",
              "0     -0.233467   0.308799   2.484015   1.732721    False\n",
              "1      1.519003   1.238482   3.344450   0.783744    False\n",
              "2      0.400640   1.916748   3.291096  -0.918519    False\n",
              "3     -1.616474   0.209703   1.461544  -0.291837    False\n",
              "4      1.480515   5.299829   2.640670   1.867559     True\n",
              "...         ...        ...        ...        ...      ...\n",
              "1991   5.153120   3.468305   3.112738   3.657268    False\n",
              "1993   2.932724   1.681604   2.629296   2.054384    False\n",
              "1994   2.532559   2.139847   3.859104   2.190373    False\n",
              "1996   4.059027   1.977436   2.144760   4.257220    False\n",
              "1997   3.457310   3.962342   3.770837   3.243168    False\n",
              "\n",
              "[1622 rows x 5 columns]"
            ],
            "text/html": [
              "\n",
              "  <div id=\"df-2bcf03ff-76b2-4f99-8ce7-953bef894a4f\">\n",
              "    <div class=\"colab-df-container\">\n",
              "      <div>\n",
              "<style scoped>\n",
              "    .dataframe tbody tr th:only-of-type {\n",
              "        vertical-align: middle;\n",
              "    }\n",
              "\n",
              "    .dataframe tbody tr th {\n",
              "        vertical-align: top;\n",
              "    }\n",
              "\n",
              "    .dataframe thead th {\n",
              "        text-align: right;\n",
              "    }\n",
              "</style>\n",
              "<table border=\"1\" class=\"dataframe\">\n",
              "  <thead>\n",
              "    <tr style=\"text-align: right;\">\n",
              "      <th></th>\n",
              "      <th>feature_1</th>\n",
              "      <th>feature_2</th>\n",
              "      <th>feature_3</th>\n",
              "      <th>feature_4</th>\n",
              "      <th>isVirus</th>\n",
              "    </tr>\n",
              "  </thead>\n",
              "  <tbody>\n",
              "    <tr>\n",
              "      <th>0</th>\n",
              "      <td>-0.233467</td>\n",
              "      <td>0.308799</td>\n",
              "      <td>2.484015</td>\n",
              "      <td>1.732721</td>\n",
              "      <td>False</td>\n",
              "    </tr>\n",
              "    <tr>\n",
              "      <th>1</th>\n",
              "      <td>1.519003</td>\n",
              "      <td>1.238482</td>\n",
              "      <td>3.344450</td>\n",
              "      <td>0.783744</td>\n",
              "      <td>False</td>\n",
              "    </tr>\n",
              "    <tr>\n",
              "      <th>2</th>\n",
              "      <td>0.400640</td>\n",
              "      <td>1.916748</td>\n",
              "      <td>3.291096</td>\n",
              "      <td>-0.918519</td>\n",
              "      <td>False</td>\n",
              "    </tr>\n",
              "    <tr>\n",
              "      <th>3</th>\n",
              "      <td>-1.616474</td>\n",
              "      <td>0.209703</td>\n",
              "      <td>1.461544</td>\n",
              "      <td>-0.291837</td>\n",
              "      <td>False</td>\n",
              "    </tr>\n",
              "    <tr>\n",
              "      <th>4</th>\n",
              "      <td>1.480515</td>\n",
              "      <td>5.299829</td>\n",
              "      <td>2.640670</td>\n",
              "      <td>1.867559</td>\n",
              "      <td>True</td>\n",
              "    </tr>\n",
              "    <tr>\n",
              "      <th>...</th>\n",
              "      <td>...</td>\n",
              "      <td>...</td>\n",
              "      <td>...</td>\n",
              "      <td>...</td>\n",
              "      <td>...</td>\n",
              "    </tr>\n",
              "    <tr>\n",
              "      <th>1991</th>\n",
              "      <td>5.153120</td>\n",
              "      <td>3.468305</td>\n",
              "      <td>3.112738</td>\n",
              "      <td>3.657268</td>\n",
              "      <td>False</td>\n",
              "    </tr>\n",
              "    <tr>\n",
              "      <th>1993</th>\n",
              "      <td>2.932724</td>\n",
              "      <td>1.681604</td>\n",
              "      <td>2.629296</td>\n",
              "      <td>2.054384</td>\n",
              "      <td>False</td>\n",
              "    </tr>\n",
              "    <tr>\n",
              "      <th>1994</th>\n",
              "      <td>2.532559</td>\n",
              "      <td>2.139847</td>\n",
              "      <td>3.859104</td>\n",
              "      <td>2.190373</td>\n",
              "      <td>False</td>\n",
              "    </tr>\n",
              "    <tr>\n",
              "      <th>1996</th>\n",
              "      <td>4.059027</td>\n",
              "      <td>1.977436</td>\n",
              "      <td>2.144760</td>\n",
              "      <td>4.257220</td>\n",
              "      <td>False</td>\n",
              "    </tr>\n",
              "    <tr>\n",
              "      <th>1997</th>\n",
              "      <td>3.457310</td>\n",
              "      <td>3.962342</td>\n",
              "      <td>3.770837</td>\n",
              "      <td>3.243168</td>\n",
              "      <td>False</td>\n",
              "    </tr>\n",
              "  </tbody>\n",
              "</table>\n",
              "<p>1622 rows × 5 columns</p>\n",
              "</div>\n",
              "      <button class=\"colab-df-convert\" onclick=\"convertToInteractive('df-2bcf03ff-76b2-4f99-8ce7-953bef894a4f')\"\n",
              "              title=\"Convert this dataframe to an interactive table.\"\n",
              "              style=\"display:none;\">\n",
              "        \n",
              "  <svg xmlns=\"http://www.w3.org/2000/svg\" height=\"24px\"viewBox=\"0 0 24 24\"\n",
              "       width=\"24px\">\n",
              "    <path d=\"M0 0h24v24H0V0z\" fill=\"none\"/>\n",
              "    <path d=\"M18.56 5.44l.94 2.06.94-2.06 2.06-.94-2.06-.94-.94-2.06-.94 2.06-2.06.94zm-11 1L8.5 8.5l.94-2.06 2.06-.94-2.06-.94L8.5 2.5l-.94 2.06-2.06.94zm10 10l.94 2.06.94-2.06 2.06-.94-2.06-.94-.94-2.06-.94 2.06-2.06.94z\"/><path d=\"M17.41 7.96l-1.37-1.37c-.4-.4-.92-.59-1.43-.59-.52 0-1.04.2-1.43.59L10.3 9.45l-7.72 7.72c-.78.78-.78 2.05 0 2.83L4 21.41c.39.39.9.59 1.41.59.51 0 1.02-.2 1.41-.59l7.78-7.78 2.81-2.81c.8-.78.8-2.07 0-2.86zM5.41 20L4 18.59l7.72-7.72 1.47 1.35L5.41 20z\"/>\n",
              "  </svg>\n",
              "      </button>\n",
              "      \n",
              "  <style>\n",
              "    .colab-df-container {\n",
              "      display:flex;\n",
              "      flex-wrap:wrap;\n",
              "      gap: 12px;\n",
              "    }\n",
              "\n",
              "    .colab-df-convert {\n",
              "      background-color: #E8F0FE;\n",
              "      border: none;\n",
              "      border-radius: 50%;\n",
              "      cursor: pointer;\n",
              "      display: none;\n",
              "      fill: #1967D2;\n",
              "      height: 32px;\n",
              "      padding: 0 0 0 0;\n",
              "      width: 32px;\n",
              "    }\n",
              "\n",
              "    .colab-df-convert:hover {\n",
              "      background-color: #E2EBFA;\n",
              "      box-shadow: 0px 1px 2px rgba(60, 64, 67, 0.3), 0px 1px 3px 1px rgba(60, 64, 67, 0.15);\n",
              "      fill: #174EA6;\n",
              "    }\n",
              "\n",
              "    [theme=dark] .colab-df-convert {\n",
              "      background-color: #3B4455;\n",
              "      fill: #D2E3FC;\n",
              "    }\n",
              "\n",
              "    [theme=dark] .colab-df-convert:hover {\n",
              "      background-color: #434B5C;\n",
              "      box-shadow: 0px 1px 3px 1px rgba(0, 0, 0, 0.15);\n",
              "      filter: drop-shadow(0px 1px 2px rgba(0, 0, 0, 0.3));\n",
              "      fill: #FFFFFF;\n",
              "    }\n",
              "  </style>\n",
              "\n",
              "      <script>\n",
              "        const buttonEl =\n",
              "          document.querySelector('#df-2bcf03ff-76b2-4f99-8ce7-953bef894a4f button.colab-df-convert');\n",
              "        buttonEl.style.display =\n",
              "          google.colab.kernel.accessAllowed ? 'block' : 'none';\n",
              "\n",
              "        async function convertToInteractive(key) {\n",
              "          const element = document.querySelector('#df-2bcf03ff-76b2-4f99-8ce7-953bef894a4f');\n",
              "          const dataTable =\n",
              "            await google.colab.kernel.invokeFunction('convertToInteractive',\n",
              "                                                     [key], {});\n",
              "          if (!dataTable) return;\n",
              "\n",
              "          const docLinkHtml = 'Like what you see? Visit the ' +\n",
              "            '<a target=\"_blank\" href=https://colab.research.google.com/notebooks/data_table.ipynb>data table notebook</a>'\n",
              "            + ' to learn more about interactive tables.';\n",
              "          element.innerHTML = '';\n",
              "          dataTable['output_type'] = 'display_data';\n",
              "          await google.colab.output.renderOutput(dataTable, element);\n",
              "          const docLink = document.createElement('div');\n",
              "          docLink.innerHTML = docLinkHtml;\n",
              "          element.appendChild(docLink);\n",
              "        }\n",
              "      </script>\n",
              "    </div>\n",
              "  </div>\n",
              "  "
            ]
          },
          "metadata": {},
          "execution_count": 113
        }
      ]
    },
    {
      "cell_type": "code",
      "source": [
        "df.info()\n",
        "# As we can see we cleaned our data "
      ],
      "metadata": {
        "id": "XghKhIjoPdc8",
        "outputId": "d6754572-ab9d-4299-c08b-53a59c5a86f6",
        "colab": {
          "base_uri": "https://localhost:8080/"
        }
      },
      "id": "XghKhIjoPdc8",
      "execution_count": 80,
      "outputs": [
        {
          "output_type": "stream",
          "name": "stdout",
          "text": [
            "<class 'pandas.core.frame.DataFrame'>\n",
            "Int64Index: 1622 entries, 0 to 1997\n",
            "Data columns (total 5 columns):\n",
            " #   Column     Non-Null Count  Dtype  \n",
            "---  ------     --------------  -----  \n",
            " 0   feature_1  1622 non-null   float64\n",
            " 1   feature_2  1622 non-null   float64\n",
            " 2   feature_3  1622 non-null   float64\n",
            " 3   feature_4  1622 non-null   float64\n",
            " 4   isVirus    1622 non-null   bool   \n",
            "dtypes: bool(1), float64(4)\n",
            "memory usage: 64.9 KB\n"
          ]
        }
      ]
    },
    {
      "cell_type": "code",
      "source": [
        "# Create the features dataset\n",
        "X = df.drop('isVirus', axis=1)\n",
        "\n",
        "# Create the labels dataset\n",
        "y= df.loc[:,'isVirus']\n",
        "\n",
        "#We need to convert our virus column in binary in order to make it easy\n",
        "\n",
        "# Create an LabelEncoder object.\n",
        "encoder = LabelEncoder()\n",
        "\n",
        "# Convert string classes to integers using fit_transform() method\n",
        "y= encoder.fit_transform(y)"
      ],
      "metadata": {
        "id": "P43VCrvLPrsH"
      },
      "id": "P43VCrvLPrsH",
      "execution_count": 114,
      "outputs": []
    },
    {
      "cell_type": "code",
      "source": [
        "# Lets plot the cleaned data\n",
        "\n",
        "plt.scatter(X[\"feature_1\"], y, label=\"feature-1\")\n",
        "plt.scatter(X[\"feature_2\"], y, label=\"feature-2\")\n",
        "plt.scatter(X[\"feature_3\"], y, label=\"feature-3\")\n",
        "plt.scatter(X[\"feature_4\"], y, label=\"feature-4\")\n",
        "plt.legend()\n",
        "plt.show()"
      ],
      "metadata": {
        "id": "K5aKaopMPk5L",
        "outputId": "5adb0378-423b-4381-9255-98bdc189ea49",
        "colab": {
          "base_uri": "https://localhost:8080/",
          "height": 265
        }
      },
      "id": "K5aKaopMPk5L",
      "execution_count": 115,
      "outputs": [
        {
          "output_type": "display_data",
          "data": {
            "text/plain": [
              "<Figure size 432x288 with 1 Axes>"
            ],
            "image/png": "[encoded data removed]"
          },
          "metadata": {
            "needs_background": "light"
          }
        }
      ]
    },
    {
      "cell_type": "code",
      "source": [
        "# Divide the dataset into train and test sets to evaulate our model\n",
        "\n",
        "X_train, X_test, y_train, y_test = train_test_split(X, y, test_size=0.33, random_state=42)"
      ],
      "metadata": {
        "id": "_UfleXVbQGYQ"
      },
      "id": "_UfleXVbQGYQ",
      "execution_count": 116,
      "outputs": []
    },
    {
      "cell_type": "code",
      "source": [
        "# Now we are ready to construct our machine learning model. Since we are making prediction about virus or not, this is a basic classification problem.\n",
        "# In such kind of classification problems we can use tree based methods like Random Forest Classifier or Logistic Regression\n",
        "\n",
        "# We can start with Logistic Regression and see it's performance\n",
        "model = LogisticRegression()\n",
        "model.fit(X_train, y_train)"
      ],
      "metadata": {
        "id": "kKKnOEupQwSJ",
        "outputId": "7d0b2ec8-ac98-400c-ea11-3cda0f5dea5d",
        "colab": {
          "base_uri": "https://localhost:8080/",
          "height": 74
        }
      },
      "id": "kKKnOEupQwSJ",
      "execution_count": 102,
      "outputs": [
        {
          "output_type": "execute_result",
          "data": {
            "text/plain": [
              "LogisticRegression()"
            ],
            "text/html": [
              "<style>#sk-container-id-6 {color: black;background-color: white;}#sk-container-id-6 pre{padding: 0;}#sk-container-id-6 div.sk-toggleable {background-color: white;}#sk-container-id-6 label.sk-toggleable__label {cursor: pointer;display: block;width: 100%;margin-bottom: 0;padding: 0.3em;box-sizing: border-box;text-align: center;}#sk-container-id-6 label.sk-toggleable__label-arrow:before {content: \"▸\";float: left;margin-right: 0.25em;color: #696969;}#sk-container-id-6 label.sk-toggleable__label-arrow:hover:before {color: black;}#sk-container-id-6 div.sk-estimator:hover label.sk-toggleable__label-arrow:before {color: black;}#sk-container-id-6 div.sk-toggleable__content {max-height: 0;max-width: 0;overflow: hidden;text-align: left;background-color: #f0f8ff;}#sk-container-id-6 div.sk-toggleable__content pre {margin: 0.2em;color: black;border-radius: 0.25em;background-color: #f0f8ff;}#sk-container-id-6 input.sk-toggleable__control:checked~div.sk-toggleable__content {max-height: 200px;max-width: 100%;overflow: auto;}#sk-container-id-6 input.sk-toggleable__control:checked~label.sk-toggleable__label-arrow:before {content: \"▾\";}#sk-container-id-6 div.sk-estimator input.sk-toggleable__control:checked~label.sk-toggleable__label {background-color: #d4ebff;}#sk-container-id-6 div.sk-label input.sk-toggleable__control:checked~label.sk-toggleable__label {background-color: #d4ebff;}#sk-container-id-6 input.sk-hidden--visually {border: 0;clip: rect(1px 1px 1px 1px);clip: rect(1px, 1px, 1px, 1px);height: 1px;margin: -1px;overflow: hidden;padding: 0;position: absolute;width: 1px;}#sk-container-id-6 div.sk-estimator {font-family: monospace;background-color: #f0f8ff;border: 1px dotted black;border-radius: 0.25em;box-sizing: border-box;margin-bottom: 0.5em;}#sk-container-id-6 div.sk-estimator:hover {background-color: #d4ebff;}#sk-container-id-6 div.sk-parallel-item::after {content: \"\";width: 100%;border-bottom: 1px solid gray;flex-grow: 1;}#sk-container-id-6 div.sk-label:hover label.sk-toggleable__label {background-color: #d4ebff;}#sk-container-id-6 div.sk-serial::before {content: \"\";position: absolute;border-left: 1px solid gray;box-sizing: border-box;top: 0;bottom: 0;left: 50%;z-index: 0;}#sk-container-id-6 div.sk-serial {display: flex;flex-direction: column;align-items: center;background-color: white;padding-right: 0.2em;padding-left: 0.2em;position: relative;}#sk-container-id-6 div.sk-item {position: relative;z-index: 1;}#sk-container-id-6 div.sk-parallel {display: flex;align-items: stretch;justify-content: center;background-color: white;position: relative;}#sk-container-id-6 div.sk-item::before, #sk-container-id-6 div.sk-parallel-item::before {content: \"\";position: absolute;border-left: 1px solid gray;box-sizing: border-box;top: 0;bottom: 0;left: 50%;z-index: -1;}#sk-container-id-6 div.sk-parallel-item {display: flex;flex-direction: column;z-index: 1;position: relative;background-color: white;}#sk-container-id-6 div.sk-parallel-item:first-child::after {align-self: flex-end;width: 50%;}#sk-container-id-6 div.sk-parallel-item:last-child::after {align-self: flex-start;width: 50%;}#sk-container-id-6 div.sk-parallel-item:only-child::after {width: 0;}#sk-container-id-6 div.sk-dashed-wrapped {border: 1px dashed gray;margin: 0 0.4em 0.5em 0.4em;box-sizing: border-box;padding-bottom: 0.4em;background-color: white;}#sk-container-id-6 div.sk-label label {font-family: monospace;font-weight: bold;display: inline-block;line-height: 1.2em;}#sk-container-id-6 div.sk-label-container {text-align: center;}#sk-container-id-6 div.sk-container {/* jupyter's `normalize.less` sets `[hidden] { display: none; }` but bootstrap.min.css set `[hidden] { display: none !important; }` so we also need the `!important` here to be able to override the default hidden behavior on the sphinx rendered scikit-learn.org. See: https://github.com/scikit-learn/scikit-learn/issues/21755 */display: inline-block !important;position: relative;}#sk-container-id-6 div.sk-text-repr-fallback {display: none;}</style><div id=\"sk-container-id-6\" class=\"sk-top-container\"><div class=\"sk-text-repr-fallback\"><pre>LogisticRegression()</pre><b>In a Jupyter environment, please rerun this cell to show the HTML representation or trust the notebook. <br />On GitHub, the HTML representation is unable to render, please try loading this page with nbviewer.org.</b></div><div class=\"sk-container\" hidden><div class=\"sk-item\"><div class=\"sk-estimator sk-toggleable\"><input class=\"sk-toggleable__control sk-hidden--visually\" id=\"sk-estimator-id-6\" type=\"checkbox\" checked><label for=\"sk-estimator-id-6\" class=\"sk-toggleable__label sk-toggleable__label-arrow\">LogisticRegression</label><div class=\"sk-toggleable__content\"><pre>LogisticRegression()</pre></div></div></div></div></div>"
            ]
          },
          "metadata": {},
          "execution_count": 102
        }
      ]
    },
    {
      "cell_type": "code",
      "source": [
        "predictions = model.predict(X_test)"
      ],
      "metadata": {
        "id": "RaSvjjWsSTcD"
      },
      "id": "RaSvjjWsSTcD",
      "execution_count": 103,
      "outputs": []
    },
    {
      "cell_type": "code",
      "source": [
        "# Use score method to get accuracy of model\n",
        "score = accuracy_score( y_test,predictions)\n",
        "print(score)"
      ],
      "metadata": {
        "id": "xqtTqK8xUiAK",
        "outputId": "eda714bf-ecee-4ba2-a186-5252d52c37af",
        "colab": {
          "base_uri": "https://localhost:8080/"
        }
      },
      "id": "xqtTqK8xUiAK",
      "execution_count": 107,
      "outputs": [
        {
          "output_type": "stream",
          "name": "stdout",
          "text": [
            "0.6529850746268657\n"
          ]
        }
      ]
    },
    {
      "cell_type": "code",
      "source": [
        "# We can try another method which is Random Forest\n",
        "\n",
        "from sklearn.ensemble import RandomForestClassifier\n",
        "\n",
        "model2 = RandomForestClassifier(max_depth=3, random_state=0)\n",
        "model2.fit(X_train, y_train)"
      ],
      "metadata": {
        "id": "ERvbMeEnVUt1",
        "outputId": "fc470437-b9a5-4537-a24b-3349e71f1539",
        "colab": {
          "base_uri": "https://localhost:8080/",
          "height": 74
        }
      },
      "id": "ERvbMeEnVUt1",
      "execution_count": 117,
      "outputs": [
        {
          "output_type": "execute_result",
          "data": {
            "text/plain": [
              "RandomForestClassifier(max_depth=3, random_state=0)"
            ],
            "text/html": [
              "<style>#sk-container-id-9 {color: black;background-color: white;}#sk-container-id-9 pre{padding: 0;}#sk-container-id-9 div.sk-toggleable {background-color: white;}#sk-container-id-9 label.sk-toggleable__label {cursor: pointer;display: block;width: 100%;margin-bottom: 0;padding: 0.3em;box-sizing: border-box;text-align: center;}#sk-container-id-9 label.sk-toggleable__label-arrow:before {content: \"▸\";float: left;margin-right: 0.25em;color: #696969;}#sk-container-id-9 label.sk-toggleable__label-arrow:hover:before {color: black;}#sk-container-id-9 div.sk-estimator:hover label.sk-toggleable__label-arrow:before {color: black;}#sk-container-id-9 div.sk-toggleable__content {max-height: 0;max-width: 0;overflow: hidden;text-align: left;background-color: #f0f8ff;}#sk-container-id-9 div.sk-toggleable__content pre {margin: 0.2em;color: black;border-radius: 0.25em;background-color: #f0f8ff;}#sk-container-id-9 input.sk-toggleable__control:checked~div.sk-toggleable__content {max-height: 200px;max-width: 100%;overflow: auto;}#sk-container-id-9 input.sk-toggleable__control:checked~label.sk-toggleable__label-arrow:before {content: \"▾\";}#sk-container-id-9 div.sk-estimator input.sk-toggleable__control:checked~label.sk-toggleable__label {background-color: #d4ebff;}#sk-container-id-9 div.sk-label input.sk-toggleable__control:checked~label.sk-toggleable__label {background-color: #d4ebff;}#sk-container-id-9 input.sk-hidden--visually {border: 0;clip: rect(1px 1px 1px 1px);clip: rect(1px, 1px, 1px, 1px);height: 1px;margin: -1px;overflow: hidden;padding: 0;position: absolute;width: 1px;}#sk-container-id-9 div.sk-estimator {font-family: monospace;background-color: #f0f8ff;border: 1px dotted black;border-radius: 0.25em;box-sizing: border-box;margin-bottom: 0.5em;}#sk-container-id-9 div.sk-estimator:hover {background-color: #d4ebff;}#sk-container-id-9 div.sk-parallel-item::after {content: \"\";width: 100%;border-bottom: 1px solid gray;flex-grow: 1;}#sk-container-id-9 div.sk-label:hover label.sk-toggleable__label {background-color: #d4ebff;}#sk-container-id-9 div.sk-serial::before {content: \"\";position: absolute;border-left: 1px solid gray;box-sizing: border-box;top: 0;bottom: 0;left: 50%;z-index: 0;}#sk-container-id-9 div.sk-serial {display: flex;flex-direction: column;align-items: center;background-color: white;padding-right: 0.2em;padding-left: 0.2em;position: relative;}#sk-container-id-9 div.sk-item {position: relative;z-index: 1;}#sk-container-id-9 div.sk-parallel {display: flex;align-items: stretch;justify-content: center;background-color: white;position: relative;}#sk-container-id-9 div.sk-item::before, #sk-container-id-9 div.sk-parallel-item::before {content: \"\";position: absolute;border-left: 1px solid gray;box-sizing: border-box;top: 0;bottom: 0;left: 50%;z-index: -1;}#sk-container-id-9 div.sk-parallel-item {display: flex;flex-direction: column;z-index: 1;position: relative;background-color: white;}#sk-container-id-9 div.sk-parallel-item:first-child::after {align-self: flex-end;width: 50%;}#sk-container-id-9 div.sk-parallel-item:last-child::after {align-self: flex-start;width: 50%;}#sk-container-id-9 div.sk-parallel-item:only-child::after {width: 0;}#sk-container-id-9 div.sk-dashed-wrapped {border: 1px dashed gray;margin: 0 0.4em 0.5em 0.4em;box-sizing: border-box;padding-bottom: 0.4em;background-color: white;}#sk-container-id-9 div.sk-label label {font-family: monospace;font-weight: bold;display: inline-block;line-height: 1.2em;}#sk-container-id-9 div.sk-label-container {text-align: center;}#sk-container-id-9 div.sk-container {/* jupyter's `normalize.less` sets `[hidden] { display: none; }` but bootstrap.min.css set `[hidden] { display: none !important; }` so we also need the `!important` here to be able to override the default hidden behavior on the sphinx rendered scikit-learn.org. See: https://github.com/scikit-learn/scikit-learn/issues/21755 */display: inline-block !important;position: relative;}#sk-container-id-9 div.sk-text-repr-fallback {display: none;}</style><div id=\"sk-container-id-9\" class=\"sk-top-container\"><div class=\"sk-text-repr-fallback\"><pre>RandomForestClassifier(max_depth=3, random_state=0)</pre><b>In a Jupyter environment, please rerun this cell to show the HTML representation or trust the notebook. <br />On GitHub, the HTML representation is unable to render, please try loading this page with nbviewer.org.</b></div><div class=\"sk-container\" hidden><div class=\"sk-item\"><div class=\"sk-estimator sk-toggleable\"><input class=\"sk-toggleable__control sk-hidden--visually\" id=\"sk-estimator-id-9\" type=\"checkbox\" checked><label for=\"sk-estimator-id-9\" class=\"sk-toggleable__label sk-toggleable__label-arrow\">RandomForestClassifier</label><div class=\"sk-toggleable__content\"><pre>RandomForestClassifier(max_depth=3, random_state=0)</pre></div></div></div></div></div>"
            ]
          },
          "metadata": {},
          "execution_count": 117
        }
      ]
    },
    {
      "cell_type": "code",
      "source": [
        "predictionRandomForest=model.predict(X_test)"
      ],
      "metadata": {
        "id": "5sjwGrYEWEhz"
      },
      "id": "5sjwGrYEWEhz",
      "execution_count": 118,
      "outputs": []
    },
    {
      "cell_type": "code",
      "source": [
        "# Use score method to get accuracy of model\n",
        "scoreRandomForest = accuracy_score(y_test,predictionRandomForest)\n",
        "print(scoreRandomForest)"
      ],
      "metadata": {
        "id": "cLpk_qVCWJIJ",
        "outputId": "132a0948-0339-4bcf-9472-3173f5146886",
        "colab": {
          "base_uri": "https://localhost:8080/"
        }
      },
      "id": "cLpk_qVCWJIJ",
      "execution_count": 119,
      "outputs": [
        {
          "output_type": "stream",
          "name": "stdout",
          "text": [
            "0.6529850746268657\n"
          ]
        }
      ]
    },
    {
      "cell_type": "markdown",
      "source": [
        "## Results\n",
        "As we see from above, both classification algortihms gave same result.\n",
        "\n",
        "This 0.65 accuracy is not good enough and it seems model is not that much reliable.\n",
        "\n",
        "To get higher accuracy we can make feature scaling or normalizing the data in order to get rid of data clutter.\n",
        "\n",
        "Also we can try other algortihms lik SVM or Naive Bayes and compare the results.\n",
        "\n"
      ],
      "metadata": {
        "id": "uHnRPGOPbSxf"
      },
      "id": "uHnRPGOPbSxf"
    }
  ],
  "metadata": {
    "kernelspec": {
      "display_name": "Python 3 (ipykernel)",
      "language": "python",
      "name": "python3"
    },
    "language_info": {
      "codemirror_mode": {
        "name": "ipython",
        "version": 3
      },
      "file_extension": ".py",
      "mimetype": "text/x-python",
      "name": "python",
      "nbconvert_exporter": "python",
      "pygments_lexer": "ipython3",
      "version": "3.8.5"
    },
    "colab": {
      "provenance": []
    }
  },
  "nbformat": 4,
  "nbformat_minor": 5
}